{
 "cells": [
  {
   "cell_type": "code",
   "execution_count": 21,
   "id": "fd33f0be",
   "metadata": {},
   "outputs": [],
   "source": [
    "#load the libraries\n",
    "import numpy as np\n",
    "import pandas as pd\n",
    "import matplotlib.pyplot as plt"
   ]
  },
  {
   "cell_type": "code",
   "execution_count": 22,
   "id": "e22205d7",
   "metadata": {},
   "outputs": [
    {
     "data": {
      "text/html": [
       "<div>\n",
       "<style scoped>\n",
       "    .dataframe tbody tr th:only-of-type {\n",
       "        vertical-align: middle;\n",
       "    }\n",
       "\n",
       "    .dataframe tbody tr th {\n",
       "        vertical-align: top;\n",
       "    }\n",
       "\n",
       "    .dataframe thead th {\n",
       "        text-align: right;\n",
       "    }\n",
       "</style>\n",
       "<table border=\"1\" class=\"dataframe\">\n",
       "  <thead>\n",
       "    <tr style=\"text-align: right;\">\n",
       "      <th></th>\n",
       "      <th>Item</th>\n",
       "      <th>ItemDesc</th>\n",
       "      <th>Group</th>\n",
       "      <th>Posting Year</th>\n",
       "      <th>Month No</th>\n",
       "      <th>Posting Month</th>\n",
       "      <th>Quantity</th>\n",
       "      <th>CostAmount</th>\n",
       "      <th>SalesAmount</th>\n",
       "    </tr>\n",
       "  </thead>\n",
       "  <tbody>\n",
       "    <tr>\n",
       "      <th>0</th>\n",
       "      <td>1100112</td>\n",
       "      <td>ACTIFED WET COUGH&amp;COLD SYRUP 100ML</td>\n",
       "      <td>OTC</td>\n",
       "      <td>2022</td>\n",
       "      <td>3</td>\n",
       "      <td>March</td>\n",
       "      <td>4</td>\n",
       "      <td>1516.0</td>\n",
       "      <td>2380.00</td>\n",
       "    </tr>\n",
       "    <tr>\n",
       "      <th>1</th>\n",
       "      <td>1100112</td>\n",
       "      <td>ACTIFED WET COUGH&amp;COLD SYRUP 100ML</td>\n",
       "      <td>OTC</td>\n",
       "      <td>2022</td>\n",
       "      <td>4</td>\n",
       "      <td>April</td>\n",
       "      <td>4</td>\n",
       "      <td>1516.0</td>\n",
       "      <td>2350.25</td>\n",
       "    </tr>\n",
       "    <tr>\n",
       "      <th>2</th>\n",
       "      <td>1100112</td>\n",
       "      <td>ACTIFED WET COUGH&amp;COLD SYRUP 100ML</td>\n",
       "      <td>OTC</td>\n",
       "      <td>2022</td>\n",
       "      <td>5</td>\n",
       "      <td>May</td>\n",
       "      <td>8</td>\n",
       "      <td>3032.0</td>\n",
       "      <td>4641.00</td>\n",
       "    </tr>\n",
       "    <tr>\n",
       "      <th>3</th>\n",
       "      <td>1100112</td>\n",
       "      <td>ACTIFED WET COUGH&amp;COLD SYRUP 100ML</td>\n",
       "      <td>OTC</td>\n",
       "      <td>2022</td>\n",
       "      <td>6</td>\n",
       "      <td>June</td>\n",
       "      <td>8</td>\n",
       "      <td>3032.0</td>\n",
       "      <td>4730.25</td>\n",
       "    </tr>\n",
       "    <tr>\n",
       "      <th>4</th>\n",
       "      <td>1100112</td>\n",
       "      <td>ACTIFED WET COUGH&amp;COLD SYRUP 100ML</td>\n",
       "      <td>OTC</td>\n",
       "      <td>2022</td>\n",
       "      <td>7</td>\n",
       "      <td>July</td>\n",
       "      <td>6</td>\n",
       "      <td>2274.0</td>\n",
       "      <td>3510.50</td>\n",
       "    </tr>\n",
       "  </tbody>\n",
       "</table>\n",
       "</div>"
      ],
      "text/plain": [
       "      Item                            ItemDesc Group  Posting Year  Month No  \\\n",
       "0  1100112  ACTIFED WET COUGH&COLD SYRUP 100ML   OTC          2022         3   \n",
       "1  1100112  ACTIFED WET COUGH&COLD SYRUP 100ML   OTC          2022         4   \n",
       "2  1100112  ACTIFED WET COUGH&COLD SYRUP 100ML   OTC          2022         5   \n",
       "3  1100112  ACTIFED WET COUGH&COLD SYRUP 100ML   OTC          2022         6   \n",
       "4  1100112  ACTIFED WET COUGH&COLD SYRUP 100ML   OTC          2022         7   \n",
       "\n",
       "  Posting Month  Quantity  CostAmount  SalesAmount  \n",
       "0         March         4      1516.0      2380.00  \n",
       "1         April         4      1516.0      2350.25  \n",
       "2           May         8      3032.0      4641.00  \n",
       "3          June         8      3032.0      4730.25  \n",
       "4          July         6      2274.0      3510.50  "
      ]
     },
     "execution_count": 22,
     "metadata": {},
     "output_type": "execute_result"
    }
   ],
   "source": [
    "#load the data\n",
    "df = pd.read_excel('Cold and Flu Data.xlsx')\n",
    "df.head()"
   ]
  },
  {
   "cell_type": "code",
   "execution_count": 23,
   "id": "a0f89a56",
   "metadata": {},
   "outputs": [
    {
     "data": {
      "text/html": [
       "<div>\n",
       "<style scoped>\n",
       "    .dataframe tbody tr th:only-of-type {\n",
       "        vertical-align: middle;\n",
       "    }\n",
       "\n",
       "    .dataframe tbody tr th {\n",
       "        vertical-align: top;\n",
       "    }\n",
       "\n",
       "    .dataframe thead th {\n",
       "        text-align: right;\n",
       "    }\n",
       "</style>\n",
       "<table border=\"1\" class=\"dataframe\">\n",
       "  <thead>\n",
       "    <tr style=\"text-align: right;\">\n",
       "      <th></th>\n",
       "      <th>Item</th>\n",
       "      <th>ItemDesc</th>\n",
       "      <th>Group</th>\n",
       "      <th>Posting Year</th>\n",
       "      <th>Month No</th>\n",
       "      <th>Posting Month</th>\n",
       "      <th>Quantity</th>\n",
       "      <th>CostAmount</th>\n",
       "      <th>SalesAmount</th>\n",
       "      <th>Date</th>\n",
       "    </tr>\n",
       "  </thead>\n",
       "  <tbody>\n",
       "    <tr>\n",
       "      <th>0</th>\n",
       "      <td>1100112</td>\n",
       "      <td>ACTIFED WET COUGH&amp;COLD SYRUP 100ML</td>\n",
       "      <td>OTC</td>\n",
       "      <td>2022</td>\n",
       "      <td>3</td>\n",
       "      <td>March</td>\n",
       "      <td>4</td>\n",
       "      <td>1516.0</td>\n",
       "      <td>2380.00</td>\n",
       "      <td>2022-03-01</td>\n",
       "    </tr>\n",
       "    <tr>\n",
       "      <th>1</th>\n",
       "      <td>1100112</td>\n",
       "      <td>ACTIFED WET COUGH&amp;COLD SYRUP 100ML</td>\n",
       "      <td>OTC</td>\n",
       "      <td>2022</td>\n",
       "      <td>4</td>\n",
       "      <td>April</td>\n",
       "      <td>4</td>\n",
       "      <td>1516.0</td>\n",
       "      <td>2350.25</td>\n",
       "      <td>2022-04-01</td>\n",
       "    </tr>\n",
       "    <tr>\n",
       "      <th>2</th>\n",
       "      <td>1100112</td>\n",
       "      <td>ACTIFED WET COUGH&amp;COLD SYRUP 100ML</td>\n",
       "      <td>OTC</td>\n",
       "      <td>2022</td>\n",
       "      <td>5</td>\n",
       "      <td>May</td>\n",
       "      <td>8</td>\n",
       "      <td>3032.0</td>\n",
       "      <td>4641.00</td>\n",
       "      <td>2022-05-01</td>\n",
       "    </tr>\n",
       "    <tr>\n",
       "      <th>3</th>\n",
       "      <td>1100112</td>\n",
       "      <td>ACTIFED WET COUGH&amp;COLD SYRUP 100ML</td>\n",
       "      <td>OTC</td>\n",
       "      <td>2022</td>\n",
       "      <td>6</td>\n",
       "      <td>June</td>\n",
       "      <td>8</td>\n",
       "      <td>3032.0</td>\n",
       "      <td>4730.25</td>\n",
       "      <td>2022-06-01</td>\n",
       "    </tr>\n",
       "    <tr>\n",
       "      <th>4</th>\n",
       "      <td>1100112</td>\n",
       "      <td>ACTIFED WET COUGH&amp;COLD SYRUP 100ML</td>\n",
       "      <td>OTC</td>\n",
       "      <td>2022</td>\n",
       "      <td>7</td>\n",
       "      <td>July</td>\n",
       "      <td>6</td>\n",
       "      <td>2274.0</td>\n",
       "      <td>3510.50</td>\n",
       "      <td>2022-07-01</td>\n",
       "    </tr>\n",
       "  </tbody>\n",
       "</table>\n",
       "</div>"
      ],
      "text/plain": [
       "      Item                            ItemDesc Group  Posting Year  Month No  \\\n",
       "0  1100112  ACTIFED WET COUGH&COLD SYRUP 100ML   OTC          2022         3   \n",
       "1  1100112  ACTIFED WET COUGH&COLD SYRUP 100ML   OTC          2022         4   \n",
       "2  1100112  ACTIFED WET COUGH&COLD SYRUP 100ML   OTC          2022         5   \n",
       "3  1100112  ACTIFED WET COUGH&COLD SYRUP 100ML   OTC          2022         6   \n",
       "4  1100112  ACTIFED WET COUGH&COLD SYRUP 100ML   OTC          2022         7   \n",
       "\n",
       "  Posting Month  Quantity  CostAmount  SalesAmount       Date  \n",
       "0         March         4      1516.0      2380.00 2022-03-01  \n",
       "1         April         4      1516.0      2350.25 2022-04-01  \n",
       "2           May         8      3032.0      4641.00 2022-05-01  \n",
       "3          June         8      3032.0      4730.25 2022-06-01  \n",
       "4          July         6      2274.0      3510.50 2022-07-01  "
      ]
     },
     "execution_count": 23,
     "metadata": {},
     "output_type": "execute_result"
    }
   ],
   "source": [
    "#create a Date column\n",
    "df['Date'] = pd.to_datetime(df['Posting Year'].astype(str)+ '-' + df['Month No'].astype(str) + '-1', errors='coerce')\n",
    "df.head()"
   ]
  },
  {
   "cell_type": "code",
   "execution_count": 24,
   "id": "ea4c79d2",
   "metadata": {},
   "outputs": [
    {
     "name": "stdout",
     "output_type": "stream",
     "text": [
      "         Date  Quantity\n",
      "0  2022-01-01       575\n",
      "1  2022-02-01       390\n",
      "2  2022-03-01       614\n",
      "3  2022-04-01       539\n",
      "4  2022-05-01       772\n",
      "5  2022-06-01      1039\n",
      "6  2022-07-01       706\n",
      "7  2022-08-01       462\n",
      "8  2022-09-01       527\n",
      "9  2022-10-01       770\n",
      "10 2022-11-01       664\n",
      "11 2022-12-01      1084\n",
      "12 2023-01-01       573\n",
      "13 2023-02-01       443\n",
      "14 2023-03-01       647\n",
      "15 2023-04-01       640\n",
      "16 2023-05-01       600\n",
      "17 2023-06-01       611\n",
      "18 2023-07-01       633\n",
      "19 2023-08-01       577\n",
      "20 2023-09-01       606\n",
      "21 2023-10-01       574\n",
      "22 2023-11-01       259\n"
     ]
    }
   ],
   "source": [
    "#aggregate the data according to the date\n",
    "df2 = df.groupby('Date')['Quantity'].sum().reset_index()\n",
    "print(df2)"
   ]
  },
  {
   "cell_type": "code",
   "execution_count": 25,
   "id": "e59132a4",
   "metadata": {},
   "outputs": [
    {
     "name": "stdout",
     "output_type": "stream",
     "text": [
      "<class 'pandas.core.frame.DataFrame'>\n",
      "RangeIndex: 23 entries, 0 to 22\n",
      "Data columns (total 2 columns):\n",
      " #   Column    Non-Null Count  Dtype         \n",
      "---  ------    --------------  -----         \n",
      " 0   Date      23 non-null     datetime64[ns]\n",
      " 1   Quantity  23 non-null     int64         \n",
      "dtypes: datetime64[ns](1), int64(1)\n",
      "memory usage: 496.0 bytes\n"
     ]
    }
   ],
   "source": [
    "df2.info()"
   ]
  },
  {
   "cell_type": "code",
   "execution_count": 34,
   "id": "3ab901ac",
   "metadata": {},
   "outputs": [
    {
     "data": {
      "text/plain": [
       "<Figure size 1600x900 with 0 Axes>"
      ]
     },
     "metadata": {},
     "output_type": "display_data"
    },
    {
     "data": {
      "image/png": "[encoded data removed]",
      "text/plain": [
       "<Figure size 640x480 with 1 Axes>"
      ]
     },
     "metadata": {},
     "output_type": "display_data"
    }
   ],
   "source": [
    "#plot Quality against Date\n",
    "plt.figure(figsize=(16, 9))\n",
    "df2.plot(x = 'Date', y = 'Quantity', kind = 'line', rot = 45, legend = False)\n",
    "plt.xlabel('Date')\n",
    "plt.ylabel('Quantity')\n",
    "plt.title('Quality Vs Date')\n",
    "plt.show()"
   ]
  },
  {
   "cell_type": "code",
   "execution_count": null,
   "id": "4b84a796",
   "metadata": {},
   "outputs": [],
   "source": [
    "#check on the distribution using a Histogram\n"
   ]
  }
 ],
 "metadata": {
  "kernelspec": {
   "display_name": "Python 3 (ipykernel)",
   "language": "python",
   "name": "python3"
  },
  "language_info": {
   "codemirror_mode": {
    "name": "ipython",
    "version": 3
   },
   "file_extension": ".py",
   "mimetype": "text/x-python",
   "name": "python",
   "nbconvert_exporter": "python",
   "pygments_lexer": "ipython3",
   "version": "3.10.9"
  }
 },
 "nbformat": 4,
 "nbformat_minor": 5
}
